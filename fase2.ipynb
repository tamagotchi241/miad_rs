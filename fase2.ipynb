{
 "cells": [
  {
   "cell_type": "code",
   "execution_count": 78,
   "metadata": {},
   "outputs": [],
   "source": [
    "import networkx as nx\n",
    "import pandas as pd\n",
    "import matplotlib.pyplot as plt\n",
    "import numpy as np\n",
    "import community as community_louvain\n",
    "import matplotlib.pyplot as plt\n",
    "import igraph as ig\n",
    "%matplotlib inline"
   ]
  },
  {
   "cell_type": "code",
   "execution_count": 79,
   "metadata": {},
   "outputs": [],
   "source": [
    "dataset = \"Base-inicial.xlsx\"\n",
    "data_nodes = \"Nodos.xlsx\"\n",
    "data_edges = \"Arcos.xlsx\"\n",
    "dataset = pd.read_excel(dataset)\n",
    "nodes = pd.read_excel(data_nodes)\n",
    "edges = pd.read_excel(data_edges)"
   ]
  },
  {
   "cell_type": "code",
   "execution_count": 80,
   "metadata": {},
   "outputs": [],
   "source": [
    "# df de solo inversionistas\n",
    "dataset_test = dataset.copy()\n",
    "dataset_test.fillna({'Principales inversionistas' : \"dummy\"}, \n",
    "                    inplace=True)\n",
    "investor_list = list(set(dataset_test['Principales inversionistas'].apply(lambda x: [item.strip() for item in x.split(',')]).explode().tolist()))\n",
    "investor = dataset[dataset['Organization Name'].isin(investor_list)]"
   ]
  },
  {
   "cell_type": "code",
   "execution_count": 81,
   "metadata": {},
   "outputs": [],
   "source": [
    "# Agrega una columna para saber si nodo es inversionistas\n",
    "nodes_attributes = nodes.copy()\n",
    "nodes_attributes[\"is_investor\"]= nodes_attributes[\"Id\"].isin(investor['Organization Name'])\n"
   ]
  },
  {
   "cell_type": "markdown",
   "metadata": {},
   "source": [
    "#### Empresas que no figuran en dataset de nodos, pero si en arcos"
   ]
  },
  {
   "cell_type": "code",
   "execution_count": 141,
   "metadata": {},
   "outputs": [
    {
     "name": "stdout",
     "output_type": "stream",
     "text": [
      "{'Placeholder', 'FinRise', 'Bond', 'Westbridge Capital', 'STRIVE', 'SCALE AI'}\n",
      "{'Fabric'}\n"
     ]
    }
   ],
   "source": [
    "set_nodes = nodes_attributes[\"Id\"].unique().tolist()\n",
    "set_source = edges[\"Source\"].unique().tolist()\n",
    "set_target = edges[\"Target\"].unique().tolist()\n",
    "missing_sources = set(set_source) - set(set_nodes) #inversionista\n",
    "print(missing_sources)\n",
    "missing_target = set(set_target) - set(set_nodes) \n",
    "print(missing_target)"
   ]
  },
  {
   "cell_type": "markdown",
   "metadata": {},
   "source": [
    "## Network"
   ]
  },
  {
   "cell_type": "code",
   "execution_count": 142,
   "metadata": {},
   "outputs": [],
   "source": [
    "G = nx.DiGraph()  # grafo dirigido\n",
    "\n",
    "for index, row in nodes_attributes.iterrows():\n",
    "    node_id = row.iloc[0]  # columna Id\n",
    "    attribute = {k: v for k, v in row.items() if k != 0}  \n",
    "    G.add_node(node_id,\n",
    "               **attribute)\n",
    "\n",
    "for index, row in edges.iterrows():\n",
    "    source = row.iloc[0]\n",
    "    target = row.iloc[1] \n",
    "    G.add_edge(source,\n",
    "               target)"
   ]
  },
  {
   "cell_type": "code",
   "execution_count": 143,
   "metadata": {},
   "outputs": [
    {
     "name": "stdout",
     "output_type": "stream",
     "text": [
      "2218 4187\n"
     ]
    }
   ],
   "source": [
    "count_nodes = G.number_of_nodes()\n",
    "count_edges = G.number_of_edges()\n",
    "print(count_nodes,count_edges)"
   ]
  },
  {
   "cell_type": "markdown",
   "metadata": {},
   "source": [
    "### Edge Betwenness"
   ]
  },
  {
   "cell_type": "markdown",
   "metadata": {},
   "source": [
    "Removemos los \"bridges\" de la red, es decir arcos con mas alto betwennness hasta quedarnos con las comunidades."
   ]
  },
  {
   "cell_type": "code",
   "execution_count": 152,
   "metadata": {},
   "outputs": [],
   "source": [
    "communities = nx.algorithms.community.girvan_newman(G)\n"
   ]
  },
  {
   "cell_type": "code",
   "execution_count": 154,
   "metadata": {},
   "outputs": [],
   "source": [
    "modularity = nx.community.modularity(G, communities)"
   ]
  },
  {
   "cell_type": "code",
   "execution_count": null,
   "metadata": {},
   "outputs": [],
   "source": [
    "unique_communities = set(communities.values())\n"
   ]
  },
  {
   "cell_type": "code",
   "execution_count": null,
   "metadata": {},
   "outputs": [],
   "source": [
    "number_of_communities = len(unique_communities)"
   ]
  },
  {
   "cell_type": "code",
   "execution_count": null,
   "metadata": {},
   "outputs": [],
   "source": [
    "modularity"
   ]
  },
  {
   "cell_type": "code",
   "execution_count": 147,
   "metadata": {},
   "outputs": [
    {
     "ename": "AttributeError",
     "evalue": "'tuple' object has no attribute 'girvan_newman'",
     "output_type": "error",
     "traceback": [
      "\u001b[0;31m---------------------------------------------------------------------------\u001b[0m",
      "\u001b[0;31mAttributeError\u001b[0m                            Traceback (most recent call last)",
      "Cell \u001b[0;32mIn[147], line 3\u001b[0m\n\u001b[1;32m      1\u001b[0m colors \u001b[38;5;241m=\u001b[39m [\u001b[38;5;124m\"\u001b[39m\u001b[38;5;124m#00C98D\u001b[39m\u001b[38;5;124m\"\u001b[39m, \u001b[38;5;124m\"\u001b[39m\u001b[38;5;124m#5030C0\u001b[39m\u001b[38;5;124m\"\u001b[39m, \u001b[38;5;124m\"\u001b[39m\u001b[38;5;124m#50F0F0\u001b[39m\u001b[38;5;124m\"\u001b[39m]\n\u001b[1;32m      2\u001b[0m pos \u001b[38;5;241m=\u001b[39m nx\u001b[38;5;241m.\u001b[39mspring_layout(G)\n\u001b[0;32m----> 3\u001b[0m lst_b \u001b[38;5;241m=\u001b[39m \u001b[43mcommunity\u001b[49m\u001b[38;5;241;43m.\u001b[39;49m\u001b[43mgirvan_newman\u001b[49m(G)\n\u001b[1;32m      4\u001b[0m color_map_b \u001b[38;5;241m=\u001b[39m {}\n\u001b[1;32m      5\u001b[0m keys \u001b[38;5;241m=\u001b[39m G\u001b[38;5;241m.\u001b[39mnodes()\n",
      "\u001b[0;31mAttributeError\u001b[0m: 'tuple' object has no attribute 'girvan_newman'"
     ]
    }
   ],
   "source": [
    "pos = nx.kamada_kawai_layout(G)\n",
    "lst_b = community.girvan_newman(G)\n",
    "color_map_b = {}\n",
    "keys = G.nodes()\n",
    "values = \"black\"\n",
    "for i in keys:\n",
    "        color_map_b[i] = values\n",
    "counter = 0\n",
    "for x in lst_b:\n",
    "  print(1)\n",
    "  for c in x:\n",
    "    for n in c:\n",
    "      #print(n,counter)\n",
    "      color_map_b[n] = colors[counter]\n",
    "    counter = counter + 1\n",
    "  break\n",
    "nx.draw_networkx_edges(G, pos)\n",
    "nx.draw_networkx_nodes(G, pos, node_color=dict(color_map_b).values())\n",
    "nx.draw_networkx_labels(G, pos)\n",
    "plt.axis(\"off\")\n",
    "plt.show()"
   ]
  }
 ],
 "metadata": {
  "kernelspec": {
   "display_name": "src-2ZNLUaXl",
   "language": "python",
   "name": "python3"
  },
  "language_info": {
   "codemirror_mode": {
    "name": "ipython",
    "version": 3
   },
   "file_extension": ".py",
   "mimetype": "text/x-python",
   "name": "python",
   "nbconvert_exporter": "python",
   "pygments_lexer": "ipython3",
   "version": "3.10.9"
  }
 },
 "nbformat": 4,
 "nbformat_minor": 2
}
